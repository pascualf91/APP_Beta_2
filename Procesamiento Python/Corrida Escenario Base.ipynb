{
 "cells": [
  {
   "cell_type": "code",
   "execution_count": 3,
   "metadata": {},
   "outputs": [
    {
     "data": {
      "text/plain": [
       "<function TextIOWrapper.close()>"
      ]
     },
     "execution_count": 3,
     "metadata": {},
     "output_type": "execute_result"
    }
   ],
   "source": [
    "import subprocess\n",
    "\n",
    "cm= 'swmm5.exe Escenario_Base.inp Escenario_Base.rpt Escenario_Base.out'\n",
    "subprocess.call(cm)\n",
    "\n",
    "hidro='swmmtoolbox extract Escenario_Base.out node,O1,Total_inflow'\n",
    "info=subprocess.getoutput(hidro)\n",
    "file=open(r\"O1.csv\", 'w')\n",
    "file.write(info)\n",
    "file.close\n",
    "\n",
    "\n",
    "TSS='swmmtoolbox extract Escenario_Base.out node,O1,TSS'\n",
    "infoTSS=subprocess.getoutput(TSS)\n",
    "file=open(r\"TSS.csv\", 'w')\n",
    "file.write(infoTSS)\n",
    "file.close\n",
    "\n",
    "FT='swmmtoolbox extract Escenario_Base.out node,O1,FT'\n",
    "infoFT=subprocess.getoutput(FT)\n",
    "file=open(r\"FT.csv\", 'w')\n",
    "file.write(infoFT)\n",
    "file.close\n",
    "\n",
    "NT='swmmtoolbox extract Escenario_Base.out node,O1,NT'\n",
    "infoNT=subprocess.getoutput(NT)\n",
    "file=open(r\"NT.csv\", 'w')\n",
    "file.write(infoNT)\n",
    "file.close\n",
    "\n"
   ]
  },
  {
   "cell_type": "code",
   "execution_count": 12,
   "metadata": {
    "scrolled": true
   },
   "outputs": [
    {
     "data": {
      "text/plain": [
       "'C:\\\\Users\\\\pascu'"
      ]
     },
     "execution_count": 12,
     "metadata": {},
     "output_type": "execute_result"
    }
   ],
   "source": [
    "import os\n",
    "\n",
    "os.getcwd()"
   ]
  },
  {
   "cell_type": "code",
   "execution_count": null,
   "metadata": {},
   "outputs": [],
   "source": []
  }
 ],
 "metadata": {
  "kernelspec": {
   "display_name": "Python 3",
   "language": "python",
   "name": "python3"
  },
  "language_info": {
   "codemirror_mode": {
    "name": "ipython",
    "version": 3
   },
   "file_extension": ".py",
   "mimetype": "text/x-python",
   "name": "python",
   "nbconvert_exporter": "python",
   "pygments_lexer": "ipython3",
   "version": "3.8.3"
  }
 },
 "nbformat": 4,
 "nbformat_minor": 2
}
